{
 "cells": [
  {
   "cell_type": "markdown",
   "metadata": {},
   "source": [
    "### Data Process"
   ]
  },
  {
   "cell_type": "code",
   "execution_count": 1,
   "metadata": {},
   "outputs": [],
   "source": [
    "import numpy as np\n",
    "import copy\n",
    "from sklearn.decomposition import PCA\n",
    "from sklearn.neighbors import kneighbors_graph\n",
    "import networkx as nx\n",
    "import scipy.io as io\n",
    "from scipy.sparse import coo_matrix\n",
    "import pandas as pd"
   ]
  },
  {
   "cell_type": "code",
   "execution_count": 2,
   "metadata": {},
   "outputs": [],
   "source": [
    "data = io.mmread('./data/neuron1k/matrix.mtx')\n",
    "data = data.T\n",
    "# num_cells x num_genes"
   ]
  },
  {
   "cell_type": "code",
   "execution_count": 3,
   "metadata": {},
   "outputs": [
    {
     "data": {
      "text/plain": [
       "<1301x31053 sparse matrix of type '<class 'numpy.int64'>'\n",
       "\twith 4220492 stored elements in COOrdinate format>"
      ]
     },
     "execution_count": 3,
     "metadata": {},
     "output_type": "execute_result"
    }
   ],
   "source": [
    "data"
   ]
  },
  {
   "cell_type": "code",
   "execution_count": 4,
   "metadata": {},
   "outputs": [
    {
     "name": "stdout",
     "output_type": "stream",
     "text": [
      "0.10446774529663438\n"
     ]
    }
   ],
   "source": [
    "masked_prob = min(len(np.where(data.todense() != 0)[0]) / (data.todense().shape[0] * data.todense().shape[1]), 0.3)\n",
    "print(masked_prob)"
   ]
  },
  {
   "cell_type": "code",
   "execution_count": 5,
   "metadata": {},
   "outputs": [],
   "source": [
    "raw = pd.DataFrame(data.todense()) # dimension = (cells x genes)data"
   ]
  },
  {
   "cell_type": "code",
   "execution_count": 6,
   "metadata": {},
   "outputs": [
    {
     "name": "stdout",
     "output_type": "stream",
     "text": [
      "4515 genes selected for imputation\n"
     ]
    }
   ],
   "source": [
    "def filter_genes(gene_metric, threshold, NN_lim=None):\n",
    "    \n",
    "    if not str(NN_lim).isdigit():\n",
    "        NN_lim = (gene_metric > threshold).sum()\n",
    "    \n",
    "    genes_to_impute = gene_metric.index[:NN_lim]\n",
    "\n",
    "    print(\"{} genes selected for imputation\".format(len(genes_to_impute)))\n",
    "\n",
    "    return genes_to_impute\n",
    "\n",
    "\n",
    "gene_metric = (raw.var()/(1+raw.mean())).sort_values(ascending=False)\n",
    "gene_metric = gene_metric[gene_metric > 0]\n",
    "\n",
    "genes_to_impute = filter_genes(gene_metric, 0.5)"
   ]
  },
  {
   "cell_type": "code",
   "execution_count": 7,
   "metadata": {},
   "outputs": [],
   "source": [
    "data = data.tocsr()[:, genes_to_impute]"
   ]
  },
  {
   "cell_type": "code",
   "execution_count": 8,
   "metadata": {},
   "outputs": [],
   "source": [
    "# normalize cell counts\n",
    "rowsum = np.sum(data, axis = 1)\n",
    "norm_transcript = np.median(np.asarray(rowsum))"
   ]
  },
  {
   "cell_type": "code",
   "execution_count": 9,
   "metadata": {},
   "outputs": [
    {
     "data": {
      "text/plain": [
       "8435.0"
      ]
     },
     "execution_count": 9,
     "metadata": {},
     "output_type": "execute_result"
    }
   ],
   "source": [
    "norm_transcript"
   ]
  },
  {
   "cell_type": "code",
   "execution_count": 10,
   "metadata": {},
   "outputs": [
    {
     "data": {
      "text/plain": [
       "(1301, 1)"
      ]
     },
     "execution_count": 10,
     "metadata": {},
     "output_type": "execute_result"
    }
   ],
   "source": [
    "rowsum.shape"
   ]
  },
  {
   "cell_type": "code",
   "execution_count": 11,
   "metadata": {},
   "outputs": [],
   "source": [
    "data_norm = (data/rowsum.reshape(-1,1))*norm_transcript"
   ]
  },
  {
   "cell_type": "code",
   "execution_count": 12,
   "metadata": {},
   "outputs": [
    {
     "data": {
      "text/plain": [
       "(1301, 4515)"
      ]
     },
     "execution_count": 12,
     "metadata": {},
     "output_type": "execute_result"
    }
   ],
   "source": [
    "data_norm.shape"
   ]
  },
  {
   "cell_type": "code",
   "execution_count": 13,
   "metadata": {},
   "outputs": [],
   "source": [
    "import torch\n",
    "import torch.nn.functional as F\n",
    "from torch import nn\n",
    "from torch_geometric.nn import GCNConv \n",
    "from torch_geometric.data import Data\n",
    "from scipy.stats import pearsonr"
   ]
  },
  {
   "cell_type": "code",
   "execution_count": 14,
   "metadata": {},
   "outputs": [
    {
     "name": "stdout",
     "output_type": "stream",
     "text": [
      "0.10446774529663438\n",
      "0.9859453885187708\n",
      "(2, 10114)\n"
     ]
    },
    {
     "name": "stderr",
     "output_type": "stream",
     "text": [
      "/home/kh278/cuda92_env/lib/python3.7/site-packages/torch/nn/modules/loss.py:431: UserWarning: Using a target size (torch.Size([1, 258867])) that is different to the input size (torch.Size([258867])). This will likely lead to incorrect results due to broadcasting. Please ensure they have the same size.\n",
      "  return F.mse_loss(input, target, reduction=self.reduction)\n",
      "/home/kh278/cuda92_env/lib/python3.7/site-packages/torch/nn/modules/loss.py:431: UserWarning: Using a target size (torch.Size([1, 14057])) that is different to the input size (torch.Size([14057])). This will likely lead to incorrect results due to broadcasting. Please ensure they have the same size.\n",
      "  return F.mse_loss(input, target, reduction=self.reduction)\n"
     ]
    },
    {
     "name": "stdout",
     "output_type": "stream",
     "text": [
      "Epoch: 10, Training Loss 512.5312, Validation Loss 215.4298\n",
      "Epoch: 20, Training Loss 380.6662, Validation Loss 74.5294\n",
      "Epoch: 30, Training Loss 325.6030, Validation Loss 46.9309\n",
      "Epoch: 40, Training Loss 299.4128, Validation Loss 46.5363\n",
      "Epoch: 50, Training Loss 270.6355, Validation Loss 39.5932\n",
      "Epoch: 60, Training Loss 226.1811, Validation Loss 38.5997\n",
      "Epoch: 70, Training Loss 193.4628, Validation Loss 37.2630\n",
      "Epoch: 80, Training Loss 167.3104, Validation Loss 35.4524\n",
      "Epoch: 90, Training Loss 113.9325, Validation Loss 33.7186\n",
      "Epoch: 100, Training Loss 76.6272, Validation Loss 33.4506\n",
      "Epoch: 110, Training Loss 81.5479, Validation Loss 36.1306\n",
      "Epoch: 120, Training Loss 60.1542, Validation Loss 36.7159\n",
      "Epoch: 130, Training Loss 45.9675, Validation Loss 36.7899\n",
      "Epoch: 140, Training Loss 43.9726, Validation Loss 38.6742\n",
      "Epoch: 150, Training Loss 46.8686, Validation Loss 40.2992\n",
      "Epoch: 160, Training Loss 41.0719, Validation Loss 45.1149\n",
      "Epoch: 170, Training Loss 47.9002, Validation Loss 41.6319\n",
      "Epoch: 180, Training Loss 41.2958, Validation Loss 45.6048\n",
      "Epoch: 190, Training Loss 40.7850, Validation Loss 51.3901\n",
      "Epoch: 200, Training Loss 37.6161, Validation Loss 47.3240\n",
      "Epoch: 210, Training Loss 38.5077, Validation Loss 46.8342\n",
      "Epoch: 220, Training Loss 36.2250, Validation Loss 48.1481\n",
      "Epoch: 230, Training Loss 36.4844, Validation Loss 50.8441\n",
      "Epoch: 240, Training Loss 37.8773, Validation Loss 56.9439\n",
      "Epoch: 250, Training Loss 35.6310, Validation Loss 50.4986\n",
      "Epoch: 260, Training Loss 35.1717, Validation Loss 51.4911\n",
      "Epoch: 270, Training Loss 35.4016, Validation Loss 53.0345\n",
      "Epoch: 280, Training Loss 34.5647, Validation Loss 54.4839\n",
      "Epoch: 290, Training Loss 38.1531, Validation Loss 58.1299\n",
      "Epoch: 300, Training Loss 38.2415, Validation Loss 60.1235\n",
      "Epoch: 310, Training Loss 38.2825, Validation Loss 56.7458\n",
      "Epoch: 320, Training Loss 33.4603, Validation Loss 61.6254\n",
      "Epoch: 330, Training Loss 35.6054, Validation Loss 64.9468\n",
      "Epoch: 340, Training Loss 37.4410, Validation Loss 61.7332\n",
      "Epoch: 350, Training Loss 38.0149, Validation Loss 62.3192\n",
      "Epoch: 360, Training Loss 33.1071, Validation Loss 62.8690\n",
      "Epoch: 370, Training Loss 34.3872, Validation Loss 65.8253\n",
      "Epoch: 380, Training Loss 31.4092, Validation Loss 66.2243\n",
      "Epoch: 390, Training Loss 38.3639, Validation Loss 67.5853\n",
      "Epoch: 400, Training Loss 33.9859, Validation Loss 64.6006\n",
      "Epoch: 410, Training Loss 32.0789, Validation Loss 66.7846\n",
      "Epoch: 420, Training Loss 36.6941, Validation Loss 66.7344\n",
      "Epoch: 430, Training Loss 33.5171, Validation Loss 64.7254\n",
      "Epoch: 440, Training Loss 35.6637, Validation Loss 67.1488\n",
      "Epoch: 450, Training Loss 32.4570, Validation Loss 68.0750\n",
      "Epoch: 460, Training Loss 28.6623, Validation Loss 66.7927\n",
      "Epoch: 470, Training Loss 35.0779, Validation Loss 68.6383\n",
      "Epoch: 480, Training Loss 39.1000, Validation Loss 70.0159\n",
      "Epoch: 490, Training Loss 32.3301, Validation Loss 72.8801\n",
      "Epoch: 500, Training Loss 29.5236, Validation Loss 66.2629\n",
      "Epoch: 510, Training Loss 30.4746, Validation Loss 65.3470\n",
      "Epoch: 520, Training Loss 32.5844, Validation Loss 70.1341\n",
      "Epoch: 530, Training Loss 27.7215, Validation Loss 68.6734\n",
      "Epoch: 540, Training Loss 29.9953, Validation Loss 69.0520\n",
      "Epoch: 550, Training Loss 32.5401, Validation Loss 72.5403\n",
      "Epoch: 560, Training Loss 27.1443, Validation Loss 72.1698\n",
      "Epoch: 570, Training Loss 28.8008, Validation Loss 73.5421\n",
      "Epoch: 580, Training Loss 30.0535, Validation Loss 70.7795\n",
      "Epoch: 590, Training Loss 29.4245, Validation Loss 74.0974\n",
      "Epoch: 600, Training Loss 27.0336, Validation Loss 72.0471\n",
      "Epoch: 610, Training Loss 28.9789, Validation Loss 74.2212\n",
      "Epoch: 620, Training Loss 30.2673, Validation Loss 74.0831\n",
      "Epoch: 630, Training Loss 27.2227, Validation Loss 79.7883\n",
      "Epoch: 640, Training Loss 29.6177, Validation Loss 75.6117\n",
      "Epoch: 650, Training Loss 30.1703, Validation Loss 74.2635\n",
      "Epoch: 660, Training Loss 28.8915, Validation Loss 79.9380\n",
      "Epoch: 670, Training Loss 27.7284, Validation Loss 76.9504\n",
      "Epoch: 680, Training Loss 28.2182, Validation Loss 78.7227\n",
      "Epoch: 690, Training Loss 28.7343, Validation Loss 76.7479\n",
      "Epoch: 700, Training Loss 36.6370, Validation Loss 77.4438\n",
      "Epoch: 710, Training Loss 33.7957, Validation Loss 74.9967\n",
      "Epoch: 720, Training Loss 28.0660, Validation Loss 72.9649\n",
      "Epoch: 730, Training Loss 24.9456, Validation Loss 73.1842\n",
      "Epoch: 740, Training Loss 26.0847, Validation Loss 80.0289\n",
      "Epoch: 750, Training Loss 28.1555, Validation Loss 79.3925\n",
      "Epoch: 760, Training Loss 26.0327, Validation Loss 78.0628\n",
      "Epoch: 770, Training Loss 26.1450, Validation Loss 78.3400\n",
      "Epoch: 780, Training Loss 26.5903, Validation Loss 78.7350\n",
      "Epoch: 790, Training Loss 26.6966, Validation Loss 80.3439\n",
      "Epoch: 800, Training Loss 27.4755, Validation Loss 77.8882\n",
      "Epoch: 810, Training Loss 26.5576, Validation Loss 80.7748\n",
      "Epoch: 820, Training Loss 26.2607, Validation Loss 82.4723\n",
      "Epoch: 830, Training Loss 30.9893, Validation Loss 77.0830\n",
      "Epoch: 840, Training Loss 26.1240, Validation Loss 77.2832\n",
      "Epoch: 850, Training Loss 23.9461, Validation Loss 87.0533\n",
      "Epoch: 860, Training Loss 26.9463, Validation Loss 85.3950\n",
      "Epoch: 870, Training Loss 26.3014, Validation Loss 78.7329\n",
      "Epoch: 880, Training Loss 26.4609, Validation Loss 77.4677\n",
      "Epoch: 890, Training Loss 24.1796, Validation Loss 82.1520\n",
      "Epoch: 900, Training Loss 29.2412, Validation Loss 80.1911\n",
      "Epoch: 910, Training Loss 27.3942, Validation Loss 79.9937\n",
      "Epoch: 920, Training Loss 25.4336, Validation Loss 82.8207\n",
      "Epoch: 930, Training Loss 25.1953, Validation Loss 81.6157\n",
      "Epoch: 940, Training Loss 28.5592, Validation Loss 77.0369\n",
      "Epoch: 950, Training Loss 26.7672, Validation Loss 78.4464\n",
      "Epoch: 960, Training Loss 35.2047, Validation Loss 80.9698\n",
      "Epoch: 970, Training Loss 28.8005, Validation Loss 76.2909\n",
      "Epoch: 980, Training Loss 26.5712, Validation Loss 85.2566\n",
      "Epoch: 990, Training Loss 30.8301, Validation Loss 84.5183\n",
      "Epoch: 1000, Training Loss 26.6566, Validation Loss 78.7561\n",
      "Testing Loss73.4863 \n",
      "(0.931083496776609, 0.0)\n"
     ]
    },
    {
     "name": "stderr",
     "output_type": "stream",
     "text": [
      "/home/kh278/cuda92_env/lib/python3.7/site-packages/torch/nn/modules/loss.py:431: UserWarning: Using a target size (torch.Size([1, 13102])) that is different to the input size (torch.Size([13102])). This will likely lead to incorrect results due to broadcasting. Please ensure they have the same size.\n",
      "  return F.mse_loss(input, target, reduction=self.reduction)\n"
     ]
    }
   ],
   "source": [
    "seed = 1\n",
    "split = [0.9, 0.05, 0.05]\n",
    "np.random.seed(seed)\n",
    "test_val = np.random.choice(data_norm.shape[0], int(data_norm.shape[0] * (split[1] + split[2])), replace = False)\n",
    "train = [i for i in list(range(data_norm.shape[0])) if i not in test_val]\n",
    "np.random.seed(seed)\n",
    "test = np.random.choice(test_val, int(len(test_val) * (split[2] / (split[1] + split[2]))), replace = False)\n",
    "val = [i for i in test_val if i not in test]\n",
    "\n",
    "data_train = data_norm[train]\n",
    "data_val = data_norm[val]\n",
    "data_test = data_norm[test]\n",
    "data_train.shape\n",
    "\n",
    "# data mask\n",
    "print(masked_prob)\n",
    "\n",
    "def mask(data_train, masked_prob):\n",
    "    index_pair_train = np.where(data_train != 0)\n",
    "    np.random.seed(seed)\n",
    "    masking_idx_train = np.random.choice(index_pair_train[0].shape[0], int(index_pair_train[0].shape[0] * masked_prob), replace = False)\n",
    "    #to retrieve the position of the masked: data_train[index_pair_train[0][masking_idx], index_pair[1][masking_idx]]\n",
    "    X_train = copy.deepcopy(data_train)\n",
    "    X_train[index_pair_train[0][masking_idx_train], index_pair_train[1][masking_idx_train]] = 0\n",
    "    return X_train, index_pair_train, masking_idx_train\n",
    "\n",
    "X_train, index_pair_train, masking_idx_train = mask(data_train, masked_prob)\n",
    "X_val, index_pair_val, masking_idx_val = mask(data_val, masked_prob)\n",
    "X_test, index_pair_test, masking_idx_test = mask(data_test, masked_prob)\n",
    "\n",
    "X_norm, _, _ = mask(data_norm, masked_prob)\n",
    "\n",
    "X = np.vstack((X_train, X_val, X_test))\n",
    "\n",
    "#data_order = np.vstack((data_train, data_val, data_test))\n",
    "# apply pca to construct graph\n",
    "pca = PCA(n_components=50)\n",
    "data_pca = pca.fit_transform(X)\n",
    "print(sum(pca.explained_variance_ratio_)) \n",
    "\n",
    "k = 5\n",
    "A = kneighbors_graph(data_pca, k, mode='connectivity', include_self=False)\n",
    "G = nx.from_numpy_matrix(A.todense())\n",
    "\n",
    "# prepare for pytorch geometric data loading\n",
    "edges = []\n",
    "for (u, v) in G.edges():\n",
    "    edges.append([u, v])\n",
    "    edges.append([v, u])\n",
    "\n",
    "edges = np.array(edges).T\n",
    "print(edges.shape)\n",
    "edges = torch.tensor(edges, dtype = torch.long)\n",
    "\n",
    "feat = torch.tensor(X, dtype=torch.float)\n",
    "G_data = Data(x=feat, edge_index=edges)\n",
    "\n",
    "class Net(torch.nn.Module):\n",
    "    def __init__(self, G_data):\n",
    "        super(Net, self).__init__()\n",
    "        self.conv1 = GCNConv(G_data.num_features, int(G_data.num_features/64))\n",
    "        self.conv2 = GCNConv(int(G_data.num_features/64), G_data.num_features)\n",
    "\n",
    "    def forward(self):\n",
    "        x, edge_index = G_data.x, G_data.edge_index\n",
    "        x = F.relu(self.conv1(x, edge_index))\n",
    "        x = F.dropout(x, training=self.training)\n",
    "        x = self.conv2(x, edge_index)\n",
    "        return x\n",
    "\n",
    "device = torch.device('cuda' if torch.cuda.is_available() else 'cpu')\n",
    "model, G_data = Net(G_data).to(device), G_data.to(device)\n",
    "optimizer = torch.optim.Adam(model.parameters(), lr=0.003, weight_decay=5e-4)\n",
    "\n",
    "def train_wrapper(model):\n",
    "    model.train()\n",
    "    optimizer.zero_grad()\n",
    "    pred = model()\n",
    "    dropout_pred = pred[:len(train)][index_pair_train[0][masking_idx_train], index_pair_train[1][masking_idx_train]]\n",
    "    dropout_true = data_train[index_pair_train[0][masking_idx_train], index_pair_train[1][masking_idx_train]]\n",
    "\n",
    "    loss_fct = nn.MSELoss()\n",
    "    loss = loss_fct(dropout_pred, torch.tensor(dropout_true, dtype = torch.float).to(device))\n",
    "    loss.backward()\n",
    "    optimizer.step()\n",
    "    loss_train = loss\n",
    "\n",
    "    loss = val_wrapper(model)\n",
    "\n",
    "    return loss_train.item(), loss\n",
    "\n",
    "@torch.no_grad()\n",
    "def val_wrapper(model):\n",
    "    model.eval()\n",
    "    pred, accs = model(), []\n",
    "    dropout_pred = pred[len(train):(len(train)+len(val))][index_pair_val[0][masking_idx_val], index_pair_val[1][masking_idx_val]]\n",
    "    dropout_true = data_val[index_pair_val[0][masking_idx_val], index_pair_val[1][masking_idx_val]]\n",
    "    loss_fct = nn.MSELoss()\n",
    "    loss = loss_fct(dropout_pred, torch.tensor(dropout_true, dtype = torch.long).to(device))    \n",
    "    return loss.item()\n",
    "\n",
    "@torch.no_grad()\n",
    "def test_wrapper(model):\n",
    "    model.eval()\n",
    "    pred, accs = model(), []\n",
    "    dropout_pred = pred[-len(test):][index_pair_test[0][masking_idx_test], index_pair_test[1][masking_idx_test]]\n",
    "    dropout_true = data_test[index_pair_test[0][masking_idx_test], index_pair_test[1][masking_idx_test]]\n",
    "    loss_fct = nn.MSELoss()\n",
    "    loss = loss_fct(dropout_pred, torch.tensor(dropout_true, dtype = torch.long).to(device))    \n",
    "    return loss.item()\n",
    "\n",
    "@torch.no_grad()\n",
    "def predict(model):\n",
    "    model.eval()\n",
    "    pred, accs = model(), []\n",
    "    dropout_pred = pred[-len(test):][index_pair_test[0][masking_idx_test], index_pair_test[1][masking_idx_test]]\n",
    "    dropout_true = data_test[index_pair_test[0][masking_idx_test], index_pair_test[1][masking_idx_test]]\n",
    "    return dropout_pred, dropout_true\n",
    "\n",
    "for epoch in range(1, 1001):\n",
    "    train_loss, val_loss = train_wrapper(model)\n",
    "    if epoch % 10 == 0:\n",
    "        print('Epoch: {}, Training Loss {:.4f}, Validation Loss {:.4f}'.format(epoch, train_loss, val_loss))\n",
    "\n",
    "loss_test = test_wrapper(model)\n",
    "print('Testing Loss{:.4f} '.format(loss_test))\n",
    "\n",
    "dropout_pred, dropout_true = predict(model)\n",
    "\n",
    "print(pearsonr(dropout_pred.cpu().numpy(), np.asarray(dropout_true).reshape(-1,)))"
   ]
  },
  {
   "cell_type": "code",
   "execution_count": 15,
   "metadata": {},
   "outputs": [
    {
     "data": {
      "image/png": "[encoded data removed]",
      "text/plain": [
       "<Figure size 432x288 with 1 Axes>"
      ]
     },
     "metadata": {
      "needs_background": "light"
     },
     "output_type": "display_data"
    }
   ],
   "source": [
    "import seaborn as sns\n",
    "import matplotlib.pyplot as plt\n",
    "\n",
    "sns.regplot(x=dropout_pred.cpu().numpy(), y=np.asarray(dropout_true).reshape(-1,), line_kws={\"color\":\"r\",\"alpha\":0.7,\"lw\":5})\n",
    "plt.title('neuron1K scGCN')\n",
    "plt.xlabel('predicted')\n",
    "plt.ylabel('true')\n",
    "plt.savefig('neuron1k_correlation.pdf')"
   ]
  }
 ],
 "metadata": {
  "kernelspec": {
   "display_name": "Python 3",
   "language": "python",
   "name": "python3"
  },
  "language_info": {
   "codemirror_mode": {
    "name": "ipython",
    "version": 3
   },
   "file_extension": ".py",
   "mimetype": "text/x-python",
   "name": "python",
   "nbconvert_exporter": "python",
   "pygments_lexer": "ipython3",
   "version": "3.7.4"
  }
 },
 "nbformat": 4,
 "nbformat_minor": 4
}
